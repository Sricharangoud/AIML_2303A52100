{
  "nbformat": 4,
  "nbformat_minor": 0,
  "metadata": {
    "colab": {
      "provenance": [],
      "authorship_tag": "ABX9TyPde7flEwcQKhOK80MKVfVu",
      "include_colab_link": true
    },
    "kernelspec": {
      "name": "python3",
      "display_name": "Python 3"
    },
    "language_info": {
      "name": "python"
    }
  },
  "cells": [
    {
      "cell_type": "markdown",
      "metadata": {
        "id": "view-in-github",
        "colab_type": "text"
      },
      "source": [
        "<a href=\"https://colab.research.google.com/github/Sricharangoud/AIML_2303A52100/blob/main/2303A52100_SETA(Q15)_BATCH33.ipynb\" target=\"_parent\"><img src=\"https://colab.research.google.com/assets/colab-badge.svg\" alt=\"Open In Colab\"/></a>"
      ]
    },
    {
      "cell_type": "markdown",
      "source": [
        "Prediction of online shoppers purchase intentions\n",
        "\n",
        "1. Name the product most liked and purchased"
      ],
      "metadata": {
        "id": "CyGQOeG8oR4g"
      }
    },
    {
      "cell_type": "code",
      "execution_count": 1,
      "metadata": {
        "id": "jc8Kv_Xjm401"
      },
      "outputs": [],
      "source": [
        "import pandas as pd"
      ]
    },
    {
      "cell_type": "code",
      "source": [
        "file_path = '/content/online_shoppers_intention.csv'\n",
        "data = pd.read_csv(file_path)"
      ],
      "metadata": {
        "id": "GCGQrPFrpvdd"
      },
      "execution_count": 2,
      "outputs": []
    },
    {
      "cell_type": "code",
      "source": [
        "print(data.head())"
      ],
      "metadata": {
        "colab": {
          "base_uri": "https://localhost:8080/"
        },
        "id": "kvNoY7Lmp5a7",
        "outputId": "94a96cbb-ae9a-4432-c89c-8544b04efd38"
      },
      "execution_count": 3,
      "outputs": [
        {
          "output_type": "stream",
          "name": "stdout",
          "text": [
            "   Administrative  Administrative_Duration  Informational  \\\n",
            "0               0                      0.0              0   \n",
            "1               0                      0.0              0   \n",
            "2               0                      0.0              0   \n",
            "3               0                      0.0              0   \n",
            "4               0                      0.0              0   \n",
            "\n",
            "   Informational_Duration  ProductRelated  ProductRelated_Duration  \\\n",
            "0                     0.0               1                 0.000000   \n",
            "1                     0.0               2                64.000000   \n",
            "2                     0.0               1                 0.000000   \n",
            "3                     0.0               2                 2.666667   \n",
            "4                     0.0              10               627.500000   \n",
            "\n",
            "   BounceRates  ExitRates  PageValues  SpecialDay Month  OperatingSystems  \\\n",
            "0         0.20       0.20         0.0         0.0   Feb                 1   \n",
            "1         0.00       0.10         0.0         0.0   Feb                 2   \n",
            "2         0.20       0.20         0.0         0.0   Feb                 4   \n",
            "3         0.05       0.14         0.0         0.0   Feb                 3   \n",
            "4         0.02       0.05         0.0         0.0   Feb                 3   \n",
            "\n",
            "   Browser  Region  TrafficType        VisitorType  Weekend  Revenue  \n",
            "0        1       1            1  Returning_Visitor    False    False  \n",
            "1        2       1            2  Returning_Visitor    False    False  \n",
            "2        1       9            3  Returning_Visitor    False    False  \n",
            "3        2       2            4  Returning_Visitor    False    False  \n",
            "4        3       1            4  Returning_Visitor     True    False  \n"
          ]
        }
      ]
    },
    {
      "cell_type": "code",
      "source": [
        "liked_products = data.groupby('Revenue')['ProductRelated_Duration'].mean().reset_index()"
      ],
      "metadata": {
        "id": "kS-hnmkup8x5"
      },
      "execution_count": 4,
      "outputs": []
    },
    {
      "cell_type": "code",
      "source": [
        "purchased_products_count = data['Revenue'].sum()"
      ],
      "metadata": {
        "id": "yc4Q_YMEqA6d"
      },
      "execution_count": 5,
      "outputs": []
    },
    {
      "cell_type": "code",
      "source": [
        "print(\"Average time spent on product-related pages:\")"
      ],
      "metadata": {
        "colab": {
          "base_uri": "https://localhost:8080/"
        },
        "id": "Cl1AwKmRqD4X",
        "outputId": "e5e30de2-ab57-4d66-ec43-dd86158c995a"
      },
      "execution_count": 6,
      "outputs": [
        {
          "output_type": "stream",
          "name": "stdout",
          "text": [
            "Average time spent on product-related pages:\n"
          ]
        }
      ]
    },
    {
      "cell_type": "code",
      "source": [
        "print(liked_products)"
      ],
      "metadata": {
        "colab": {
          "base_uri": "https://localhost:8080/"
        },
        "id": "dc89rzMJqGUW",
        "outputId": "3875a313-2f61-4e6a-ffd5-5e7ad7277076"
      },
      "execution_count": 7,
      "outputs": [
        {
          "output_type": "stream",
          "name": "stdout",
          "text": [
            "   Revenue  ProductRelated_Duration\n",
            "0    False              1069.987809\n",
            "1     True              1876.209615\n"
          ]
        }
      ]
    },
    {
      "cell_type": "code",
      "source": [
        "print(f\"Total number of purchases made: {purchased_products_count}\")"
      ],
      "metadata": {
        "colab": {
          "base_uri": "https://localhost:8080/"
        },
        "id": "wWtVTVc7qJi7",
        "outputId": "b8de2ff8-c680-4b97-ce6a-4815321b098d"
      },
      "execution_count": 8,
      "outputs": [
        {
          "output_type": "stream",
          "name": "stdout",
          "text": [
            "Total number of purchases made: 1908\n"
          ]
        }
      ]
    },
    {
      "cell_type": "markdown",
      "source": [
        "2. Identify the special days when most products are purchased"
      ],
      "metadata": {
        "id": "t10umoqfqLwe"
      }
    },
    {
      "cell_type": "code",
      "source": [
        "import pandas as pd"
      ],
      "metadata": {
        "id": "PNK-n5rWqXoc"
      },
      "execution_count": 9,
      "outputs": []
    },
    {
      "cell_type": "code",
      "source": [
        "file_path = '/content/online_shoppers_intention.csv'\n",
        "data = pd.read_csv(file_path)"
      ],
      "metadata": {
        "id": "ziLzcCmrqfAr"
      },
      "execution_count": 10,
      "outputs": []
    },
    {
      "cell_type": "code",
      "source": [
        "print(data.head())"
      ],
      "metadata": {
        "colab": {
          "base_uri": "https://localhost:8080/"
        },
        "id": "b7DpPJ1FqneZ",
        "outputId": "866b7470-54c2-4609-c82b-92e8e669a563"
      },
      "execution_count": 11,
      "outputs": [
        {
          "output_type": "stream",
          "name": "stdout",
          "text": [
            "   Administrative  Administrative_Duration  Informational  \\\n",
            "0               0                      0.0              0   \n",
            "1               0                      0.0              0   \n",
            "2               0                      0.0              0   \n",
            "3               0                      0.0              0   \n",
            "4               0                      0.0              0   \n",
            "\n",
            "   Informational_Duration  ProductRelated  ProductRelated_Duration  \\\n",
            "0                     0.0               1                 0.000000   \n",
            "1                     0.0               2                64.000000   \n",
            "2                     0.0               1                 0.000000   \n",
            "3                     0.0               2                 2.666667   \n",
            "4                     0.0              10               627.500000   \n",
            "\n",
            "   BounceRates  ExitRates  PageValues  SpecialDay Month  OperatingSystems  \\\n",
            "0         0.20       0.20         0.0         0.0   Feb                 1   \n",
            "1         0.00       0.10         0.0         0.0   Feb                 2   \n",
            "2         0.20       0.20         0.0         0.0   Feb                 4   \n",
            "3         0.05       0.14         0.0         0.0   Feb                 3   \n",
            "4         0.02       0.05         0.0         0.0   Feb                 3   \n",
            "\n",
            "   Browser  Region  TrafficType        VisitorType  Weekend  Revenue  \n",
            "0        1       1            1  Returning_Visitor    False    False  \n",
            "1        2       1            2  Returning_Visitor    False    False  \n",
            "2        1       9            3  Returning_Visitor    False    False  \n",
            "3        2       2            4  Returning_Visitor    False    False  \n",
            "4        3       1            4  Returning_Visitor     True    False  \n"
          ]
        }
      ]
    },
    {
      "cell_type": "code",
      "source": [
        "purchased_data = data[data['Revenue'] == True]"
      ],
      "metadata": {
        "id": "Q7l5b_mmqqjc"
      },
      "execution_count": 12,
      "outputs": []
    },
    {
      "cell_type": "code",
      "source": [
        "special_day_purchases = purchased_data.groupby('SpecialDay').size().reset_index(name='PurchaseCount')"
      ],
      "metadata": {
        "id": "Qu7iQNVgqtqI"
      },
      "execution_count": 13,
      "outputs": []
    },
    {
      "cell_type": "code",
      "source": [
        "special_day_purchases = special_day_purchases.sort_values(by='PurchaseCount', ascending=False)"
      ],
      "metadata": {
        "id": "PmlRN97lqw0y"
      },
      "execution_count": 14,
      "outputs": []
    },
    {
      "cell_type": "code",
      "source": [
        "print(\"Special days when most products are purchased:\")"
      ],
      "metadata": {
        "colab": {
          "base_uri": "https://localhost:8080/"
        },
        "id": "sB9g8Qw7qz_S",
        "outputId": "dce6d393-8725-4900-a72c-84f1ce32ed95"
      },
      "execution_count": 15,
      "outputs": [
        {
          "output_type": "stream",
          "name": "stdout",
          "text": [
            "Special days when most products are purchased:\n"
          ]
        }
      ]
    },
    {
      "cell_type": "code",
      "source": [
        "print(special_day_purchases)"
      ],
      "metadata": {
        "colab": {
          "base_uri": "https://localhost:8080/"
        },
        "id": "nHCHxUOTrCBr",
        "outputId": "3bbb4722-f857-4615-e298-398cf0996f43"
      },
      "execution_count": 16,
      "outputs": [
        {
          "output_type": "stream",
          "name": "stdout",
          "text": [
            "   SpecialDay  PurchaseCount\n",
            "0         0.0           1831\n",
            "3         0.6             29\n",
            "1         0.2             14\n",
            "2         0.4             13\n",
            "4         0.8             11\n",
            "5         1.0             10\n"
          ]
        }
      ]
    },
    {
      "cell_type": "markdown",
      "source": [
        "3. List the top 5 special days of purchase and type of visitors.\n"
      ],
      "metadata": {
        "id": "4peQoCeJrWpE"
      }
    },
    {
      "cell_type": "code",
      "source": [
        "import pandas as pd"
      ],
      "metadata": {
        "id": "byIDWiVnrWQZ"
      },
      "execution_count": 17,
      "outputs": []
    },
    {
      "cell_type": "code",
      "source": [
        "file_path = '/content/online_shoppers_intention.csv'\n",
        "data = pd.read_csv(file_path)"
      ],
      "metadata": {
        "id": "yjsnVZa8riDW"
      },
      "execution_count": 18,
      "outputs": []
    },
    {
      "cell_type": "code",
      "source": [
        "purchased_data = data[data['Revenue'] == True]"
      ],
      "metadata": {
        "id": "LXNr5BWirzON"
      },
      "execution_count": 19,
      "outputs": []
    },
    {
      "cell_type": "code",
      "source": [
        "special_day_purchases = purchased_data.groupby('SpecialDay').size().reset_index(name='PurchaseCount')"
      ],
      "metadata": {
        "id": "x3V5fQIPr3ZC"
      },
      "execution_count": 20,
      "outputs": []
    },
    {
      "cell_type": "code",
      "source": [
        "top_special_days = special_day_purchases.sort_values(by='PurchaseCount', ascending=False).head(5)"
      ],
      "metadata": {
        "id": "FQ4mJA82r6wP"
      },
      "execution_count": 21,
      "outputs": []
    },
    {
      "cell_type": "code",
      "source": [
        "top_special_days_visitors = purchased_data[purchased_data['SpecialDay'].isin(top_special_days['SpecialDay'])]\n",
        "visitor_type_distribution = top_special_days_visitors.groupby(['SpecialDay', 'VisitorType']).size().reset_index(name='VisitorCount')"
      ],
      "metadata": {
        "id": "fBxPq8-4sAh3"
      },
      "execution_count": 22,
      "outputs": []
    },
    {
      "cell_type": "code",
      "source": [
        "merged_results = pd.merge(top_special_days, visitor_type_distribution, on='SpecialDay')"
      ],
      "metadata": {
        "id": "5PCkQTz8sEeP"
      },
      "execution_count": 23,
      "outputs": []
    },
    {
      "cell_type": "code",
      "source": [
        "print(\"Top 5 special days of purchase and type of visitors:\")"
      ],
      "metadata": {
        "colab": {
          "base_uri": "https://localhost:8080/"
        },
        "id": "vgjI9PsWsHmK",
        "outputId": "4f216d2a-9ffe-4392-f296-6d1187b4074d"
      },
      "execution_count": 24,
      "outputs": [
        {
          "output_type": "stream",
          "name": "stdout",
          "text": [
            "Top 5 special days of purchase and type of visitors:\n"
          ]
        }
      ]
    },
    {
      "cell_type": "code",
      "source": [
        "print(merged_results)"
      ],
      "metadata": {
        "colab": {
          "base_uri": "https://localhost:8080/"
        },
        "id": "L0QffvrrsKWD",
        "outputId": "50dc1235-f312-4f5a-dbbc-255d8537be43"
      },
      "execution_count": 25,
      "outputs": [
        {
          "output_type": "stream",
          "name": "stdout",
          "text": [
            "    SpecialDay  PurchaseCount        VisitorType  VisitorCount\n",
            "0          0.0           1831        New_Visitor           406\n",
            "1          0.0           1831              Other            16\n",
            "2          0.0           1831  Returning_Visitor          1409\n",
            "3          0.6             29        New_Visitor             4\n",
            "4          0.6             29  Returning_Visitor            25\n",
            "5          0.2             14        New_Visitor             5\n",
            "6          0.2             14  Returning_Visitor             9\n",
            "7          0.4             13        New_Visitor             4\n",
            "8          0.4             13  Returning_Visitor             9\n",
            "9          0.8             11        New_Visitor             1\n",
            "10         0.8             11  Returning_Visitor            10\n"
          ]
        }
      ]
    },
    {
      "cell_type": "markdown",
      "source": [
        "4. Identify the months when most purchases happened\n"
      ],
      "metadata": {
        "id": "0QNXfCw4sQ3V"
      }
    },
    {
      "cell_type": "code",
      "source": [
        "import pandas as pd"
      ],
      "metadata": {
        "id": "uLIx15eosgcA"
      },
      "execution_count": 26,
      "outputs": []
    },
    {
      "cell_type": "code",
      "source": [
        "file_path = '/content/online_shoppers_intention.csv'\n",
        "data = pd.read_csv(file_path)"
      ],
      "metadata": {
        "id": "bEafldRsskL7"
      },
      "execution_count": 27,
      "outputs": []
    },
    {
      "cell_type": "code",
      "source": [
        "print(data.head())"
      ],
      "metadata": {
        "colab": {
          "base_uri": "https://localhost:8080/"
        },
        "id": "ma5DZyO_srJ9",
        "outputId": "3c1835f0-f9f2-4a7b-b923-e32288b31219"
      },
      "execution_count": 28,
      "outputs": [
        {
          "output_type": "stream",
          "name": "stdout",
          "text": [
            "   Administrative  Administrative_Duration  Informational  \\\n",
            "0               0                      0.0              0   \n",
            "1               0                      0.0              0   \n",
            "2               0                      0.0              0   \n",
            "3               0                      0.0              0   \n",
            "4               0                      0.0              0   \n",
            "\n",
            "   Informational_Duration  ProductRelated  ProductRelated_Duration  \\\n",
            "0                     0.0               1                 0.000000   \n",
            "1                     0.0               2                64.000000   \n",
            "2                     0.0               1                 0.000000   \n",
            "3                     0.0               2                 2.666667   \n",
            "4                     0.0              10               627.500000   \n",
            "\n",
            "   BounceRates  ExitRates  PageValues  SpecialDay Month  OperatingSystems  \\\n",
            "0         0.20       0.20         0.0         0.0   Feb                 1   \n",
            "1         0.00       0.10         0.0         0.0   Feb                 2   \n",
            "2         0.20       0.20         0.0         0.0   Feb                 4   \n",
            "3         0.05       0.14         0.0         0.0   Feb                 3   \n",
            "4         0.02       0.05         0.0         0.0   Feb                 3   \n",
            "\n",
            "   Browser  Region  TrafficType        VisitorType  Weekend  Revenue  \n",
            "0        1       1            1  Returning_Visitor    False    False  \n",
            "1        2       1            2  Returning_Visitor    False    False  \n",
            "2        1       9            3  Returning_Visitor    False    False  \n",
            "3        2       2            4  Returning_Visitor    False    False  \n",
            "4        3       1            4  Returning_Visitor     True    False  \n"
          ]
        }
      ]
    },
    {
      "cell_type": "code",
      "source": [
        "purchased_data = data[data['Revenue'] == True]"
      ],
      "metadata": {
        "id": "qz48v2WxsueM"
      },
      "execution_count": 29,
      "outputs": []
    },
    {
      "cell_type": "code",
      "source": [
        "monthly_purchases = purchased_data.groupby('Month').size().reset_index(name='PurchaseCount')"
      ],
      "metadata": {
        "id": "2WCGVX1wsyaU"
      },
      "execution_count": 30,
      "outputs": []
    },
    {
      "cell_type": "code",
      "source": [
        "monthly_purchases = monthly_purchases.sort_values(by='PurchaseCount', ascending=False)"
      ],
      "metadata": {
        "id": "O1YlakYDs2Vm"
      },
      "execution_count": 31,
      "outputs": []
    },
    {
      "cell_type": "code",
      "source": [
        "print(\"Months when most purchases happened:\")"
      ],
      "metadata": {
        "colab": {
          "base_uri": "https://localhost:8080/"
        },
        "id": "yOx2B8Gcs5dk",
        "outputId": "5031fdcb-bd3e-47c6-be3e-1ff8f4ebe2d7"
      },
      "execution_count": 32,
      "outputs": [
        {
          "output_type": "stream",
          "name": "stdout",
          "text": [
            "Months when most purchases happened:\n"
          ]
        }
      ]
    },
    {
      "cell_type": "code",
      "source": [
        "print(monthly_purchases)"
      ],
      "metadata": {
        "colab": {
          "base_uri": "https://localhost:8080/"
        },
        "id": "B98WtK2Ss8U0",
        "outputId": "bcb6314e-aef4-4adf-8534-e54bb6fd98b3"
      },
      "execution_count": 33,
      "outputs": [
        {
          "output_type": "stream",
          "name": "stdout",
          "text": [
            "  Month  PurchaseCount\n",
            "7   Nov            760\n",
            "6   May            365\n",
            "1   Dec            216\n",
            "5   Mar            192\n",
            "8   Oct            115\n",
            "9   Sep             86\n",
            "0   Aug             76\n",
            "3   Jul             66\n",
            "4  June             29\n",
            "2   Feb              3\n"
          ]
        }
      ]
    },
    {
      "cell_type": "markdown",
      "source": [
        "5. What the max and min revenue generated by the online shoppers"
      ],
      "metadata": {
        "id": "6q8cFZMdtK65"
      }
    },
    {
      "cell_type": "code",
      "source": [
        "import pandas as pd"
      ],
      "metadata": {
        "id": "k1V-oca-tOft"
      },
      "execution_count": 34,
      "outputs": []
    },
    {
      "cell_type": "code",
      "source": [
        "file_path = '/content/online_shoppers_intention.csv'\n",
        "data = pd.read_csv(file_path)"
      ],
      "metadata": {
        "id": "wYkNl42YtRzz"
      },
      "execution_count": 35,
      "outputs": []
    },
    {
      "cell_type": "code",
      "source": [
        "print(data.head())"
      ],
      "metadata": {
        "colab": {
          "base_uri": "https://localhost:8080/"
        },
        "id": "WcNRtY6ptZ_n",
        "outputId": "e5b2f563-8209-4450-c88d-970af130e51d"
      },
      "execution_count": 36,
      "outputs": [
        {
          "output_type": "stream",
          "name": "stdout",
          "text": [
            "   Administrative  Administrative_Duration  Informational  \\\n",
            "0               0                      0.0              0   \n",
            "1               0                      0.0              0   \n",
            "2               0                      0.0              0   \n",
            "3               0                      0.0              0   \n",
            "4               0                      0.0              0   \n",
            "\n",
            "   Informational_Duration  ProductRelated  ProductRelated_Duration  \\\n",
            "0                     0.0               1                 0.000000   \n",
            "1                     0.0               2                64.000000   \n",
            "2                     0.0               1                 0.000000   \n",
            "3                     0.0               2                 2.666667   \n",
            "4                     0.0              10               627.500000   \n",
            "\n",
            "   BounceRates  ExitRates  PageValues  SpecialDay Month  OperatingSystems  \\\n",
            "0         0.20       0.20         0.0         0.0   Feb                 1   \n",
            "1         0.00       0.10         0.0         0.0   Feb                 2   \n",
            "2         0.20       0.20         0.0         0.0   Feb                 4   \n",
            "3         0.05       0.14         0.0         0.0   Feb                 3   \n",
            "4         0.02       0.05         0.0         0.0   Feb                 3   \n",
            "\n",
            "   Browser  Region  TrafficType        VisitorType  Weekend  Revenue  \n",
            "0        1       1            1  Returning_Visitor    False    False  \n",
            "1        2       1            2  Returning_Visitor    False    False  \n",
            "2        1       9            3  Returning_Visitor    False    False  \n",
            "3        2       2            4  Returning_Visitor    False    False  \n",
            "4        3       1            4  Returning_Visitor     True    False  \n"
          ]
        }
      ]
    },
    {
      "cell_type": "code",
      "source": [
        "max_revenue = data['PageValues'].max()\n",
        "min_revenue = data['PageValues'].min()"
      ],
      "metadata": {
        "id": "gSyrtfWJteu3"
      },
      "execution_count": 38,
      "outputs": []
    },
    {
      "cell_type": "code",
      "source": [
        "print(\"Max revenue generated by online shoppers:\", max_revenue)"
      ],
      "metadata": {
        "colab": {
          "base_uri": "https://localhost:8080/"
        },
        "id": "hPpg7NCrtktb",
        "outputId": "83c0e254-a174-492b-df99-3cdc5b317d1b"
      },
      "execution_count": 39,
      "outputs": [
        {
          "output_type": "stream",
          "name": "stdout",
          "text": [
            "Max revenue generated by online shoppers: 361.7637419\n"
          ]
        }
      ]
    },
    {
      "cell_type": "code",
      "source": [
        "print(\"Min revenue generated by online shoppers:\", min_revenue)"
      ],
      "metadata": {
        "colab": {
          "base_uri": "https://localhost:8080/"
        },
        "id": "6_opJfNGtnln",
        "outputId": "dbad1b8e-9f95-4a75-a60f-e1681e232728"
      },
      "execution_count": 40,
      "outputs": [
        {
          "output_type": "stream",
          "name": "stdout",
          "text": [
            "Min revenue generated by online shoppers: 0.0\n"
          ]
        }
      ]
    }
  ]
}